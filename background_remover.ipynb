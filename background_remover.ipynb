{
 "cells": [
  {
   "cell_type": "code",
   "execution_count": null,
   "id": "a5c48fff-cd83-49cd-bca0-b60d039b2d8c",
   "metadata": {},
   "outputs": [],
   "source": [
    "from PIL import Image\n",
    "import matplotlib.pyplot as plt\n",
    "import math\n",
    "from transparent_background import Remover"
   ]
  },
  {
   "cell_type": "code",
   "execution_count": null,
   "id": "ac457352-c0b3-4ff2-b4c3-bdd17bc7bd16",
   "metadata": {},
   "outputs": [],
   "source": [
    "remover = Remover()"
   ]
  },
  {
   "cell_type": "code",
   "execution_count": null,
   "id": "dfbec55c-1326-4784-bb92-b4efcb2c838b",
   "metadata": {},
   "outputs": [],
   "source": [
    "# function to display images in a grid format\n",
    "def display_image_grid(images, titles=None, cols=3, figsize=(15, 15)):\n",
    "\n",
    "    rows = math.ceil(len(images) / cols)\n",
    "    fig, axs = plt.subplots(rows, cols, figsize=figsize)\n",
    "    axs = axs.flatten()\n",
    "\n",
    "    for i, img in enumerate(images):\n",
    "        axs[i].imshow(img)\n",
    "        axs[i].axis('off')\n",
    "\n",
    "        if titles and i < len(titles):\n",
    "            axs[i].set_title(titles[i])\n",
    "\n",
    "    # Hide any unused subplots\n",
    "    for j in range(i + 1, len(axs)):\n",
    "        axs[j].axis('off')\n",
    "        axs[j].set_visible(False)\n",
    "\n",
    "    plt.tight_layout()\n",
    "    plt.show()"
   ]
  },
  {
   "cell_type": "code",
   "execution_count": null,
   "id": "18ebaa30-153e-4234-92eb-6db70a9962d6",
   "metadata": {},
   "outputs": [],
   "source": [
    "img1 = Image.open(\"\"D:\\DOWNLOADS\\lungs.jpg\")"
   ]
  },
  {
   "cell_type": "code",
   "execution_count": null,
   "id": "c9fb3c40-b5c5-469a-913e-eded238175fc",
   "metadata": {},
   "outputs": [],
   "source": [
    "display_image_grid([img1])"
   ]
  },
  {
   "cell_type": "code",
   "execution_count": null,
   "id": "103c9088-1e18-4eb3-a628-764e509d6ca5",
   "metadata": {},
   "outputs": [],
   "source": [
    "img1_nobg = remover.process(img1)"
   ]
  },
  {
   "cell_type": "code",
   "execution_count": null,
   "id": "994095b3-c667-4fc0-82ff-bfe8f3c520bb",
   "metadata": {},
   "outputs": [],
   "source": [
    "display_image_grid([img1_nobg])"
   ]
  }
 ],
 "metadata": {
  "kernelspec": {
   "display_name": "Python 3 (ipykernel)",
   "language": "python",
   "name": "python3"
  },
  "language_info": {
   "codemirror_mode": {
    "name": "ipython",
    "version": 3
   },
   "file_extension": ".py",
   "mimetype": "text/x-python",
   "name": "python",
   "nbconvert_exporter": "python",
   "pygments_lexer": "ipython3",
   "version": "3.11.5"
  }
 },
 "nbformat": 4,
 "nbformat_minor": 5
}
