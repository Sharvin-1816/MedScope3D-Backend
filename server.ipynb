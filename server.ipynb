{
 "cells": [
  {
   "cell_type": "code",
   "execution_count": 1,
   "id": "f37221df-f628-4dab-abd3-ad3ae4327ceb",
   "metadata": {},
   "outputs": [],
   "source": [
    "from flask import Flask, request, jsonify\n",
    "from flask_cors import CORS\n",
    "from pyngrok import ngrok\n",
    "import os \n",
    "from flask import send_from_directory"
   ]
  },
  {
   "cell_type": "code",
   "execution_count": 2,
   "id": "2ce4cdc1-21f8-4daa-b080-4996f06876ca",
   "metadata": {},
   "outputs": [
    {
     "name": "stdout",
     "output_type": "stream",
     "text": [
      " * ngrok tunnel available at: NgrokTunnel: \"https://370c-2401-4900-6281-d9a5-d9b3-170c-6392-5eae.ngrok-free.app\" -> \"http://localhost:5000\"\n",
      " * Serving Flask app '__main__'\n",
      " * Debug mode: off\n"
     ]
    },
    {
     "name": "stderr",
     "output_type": "stream",
     "text": [
      "WARNING: This is a development server. Do not use it in a production deployment. Use a production WSGI server instead.\n",
      " * Running on all addresses (0.0.0.0)\n",
      " * Running on http://127.0.0.1:5000\n",
      " * Running on http://192.168.177.234:5000\n",
      "Press CTRL+C to quit\n"
     ]
    }
   ],
   "source": [
    "app = Flask(__name__)\n",
    "CORS(app)\n",
    "\n",
    "UPLOAD_FOLDER = 'uploads'\n",
    "os.makedirs(UPLOAD_FOLDER, exist_ok=True)\n",
    "\n",
    "@app.route('/', methods=['GET'])\n",
    "def index():\n",
    "    return \"Flask server is running!\", 200\n",
    "\n",
    "@app.route('/upload', methods=['POST'])\n",
    "def upload_image():\n",
    "    if 'scan' not in request.files:\n",
    "        return jsonify({'error': 'No scan part in request'}), 400\n",
    "\n",
    "    image = request.files['scan']\n",
    "    if image.filename == '':\n",
    "        return jsonify({'error': 'No selected file'}), 400\n",
    "\n",
    "    save_path = os.path.join(UPLOAD_FOLDER, image.filename)\n",
    "    image.save(save_path)\n",
    "\n",
    "    return jsonify({'message': 'Image received successfully', 'filename': image.filename}), 200\n",
    "\n",
    "if __name__ == '__main__':\n",
    "    # Open a tunnel on port 5000 and print the public URL\n",
    "    public_url = ngrok.connect(5000)\n",
    "    print(f\" * ngrok tunnel available at: {public_url}\")\n",
    "    \n",
    "    # Run Flask on 5000\n",
    "    app.run(host='0.0.0.0', port=5000)"
   ]
  },
  {
   "cell_type": "code",
   "execution_count": null,
   "id": "5e552684-7a8e-4fd6-b614-353c70150de8",
   "metadata": {},
   "outputs": [],
   "source": []
  }
 ],
 "metadata": {
  "kernelspec": {
   "display_name": "Python 3 (ipykernel)",
   "language": "python",
   "name": "python3"
  },
  "language_info": {
   "codemirror_mode": {
    "name": "ipython",
    "version": 3
   },
   "file_extension": ".py",
   "mimetype": "text/x-python",
   "name": "python",
   "nbconvert_exporter": "python",
   "pygments_lexer": "ipython3",
   "version": "3.11.5"
  }
 },
 "nbformat": 4,
 "nbformat_minor": 5
}
